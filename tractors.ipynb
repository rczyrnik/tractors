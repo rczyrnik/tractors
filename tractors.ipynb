{
 "cells": [
  {
   "cell_type": "markdown",
   "metadata": {},
   "source": [
    "### 1. Imports"
   ]
  },
  {
   "cell_type": "code",
   "execution_count": 1,
   "metadata": {},
   "outputs": [],
   "source": [
    "import numpy as np\n",
    "import pandas as pd\n",
    "from sklearn.linear_model import LinearRegression\n",
    "from sklearn.preprocessing import StandardScaler"
   ]
  },
  {
   "cell_type": "markdown",
   "metadata": {},
   "source": [
    "### 2. Read Data"
   ]
  },
  {
   "cell_type": "code",
   "execution_count": 2,
   "metadata": {},
   "outputs": [],
   "source": [
    "train_df = pd.read_csv('data/train.csv', dtype={13:str,39:str,40:str,41:str})\n",
    "test_df = pd.read_csv('data/test.csv', dtype={13:str,39:str,40:str,41:str})\n",
    "test_actual_prices = pd.read_csv('data/test_soln.csv').SalePrice"
   ]
  },
  {
   "cell_type": "markdown",
   "metadata": {},
   "source": [
    "### 3. Get Average Sale Price By Model\n",
    "\n",
    "For example, there were 32 pieces of equiptment sold with the model id of 28. The sum of their sale prices was nearly \\$500,000, or about $15,600 each."
   ]
  },
  {
   "cell_type": "code",
   "execution_count": 3,
   "metadata": {},
   "outputs": [
    {
     "data": {
      "text/html": [
       "<div>\n",
       "<style scoped>\n",
       "    .dataframe tbody tr th:only-of-type {\n",
       "        vertical-align: middle;\n",
       "    }\n",
       "\n",
       "    .dataframe tbody tr th {\n",
       "        vertical-align: top;\n",
       "    }\n",
       "\n",
       "    .dataframe thead th {\n",
       "        text-align: right;\n",
       "    }\n",
       "</style>\n",
       "<table border=\"1\" class=\"dataframe\">\n",
       "  <thead>\n",
       "    <tr style=\"text-align: right;\">\n",
       "      <th></th>\n",
       "      <th>SalePrice</th>\n",
       "      <th>Counts</th>\n",
       "      <th>AvgPrice</th>\n",
       "    </tr>\n",
       "    <tr>\n",
       "      <th>ModelID</th>\n",
       "      <th></th>\n",
       "      <th></th>\n",
       "      <th></th>\n",
       "    </tr>\n",
       "  </thead>\n",
       "  <tbody>\n",
       "    <tr>\n",
       "      <th>28</th>\n",
       "      <td>498250</td>\n",
       "      <td>32</td>\n",
       "      <td>15570.31</td>\n",
       "    </tr>\n",
       "    <tr>\n",
       "      <th>29</th>\n",
       "      <td>152500</td>\n",
       "      <td>9</td>\n",
       "      <td>16944.44</td>\n",
       "    </tr>\n",
       "    <tr>\n",
       "      <th>31</th>\n",
       "      <td>137500</td>\n",
       "      <td>8</td>\n",
       "      <td>17187.50</td>\n",
       "    </tr>\n",
       "    <tr>\n",
       "      <th>34</th>\n",
       "      <td>103500</td>\n",
       "      <td>6</td>\n",
       "      <td>17250.00</td>\n",
       "    </tr>\n",
       "    <tr>\n",
       "      <th>43</th>\n",
       "      <td>13830400</td>\n",
       "      <td>697</td>\n",
       "      <td>19842.75</td>\n",
       "    </tr>\n",
       "  </tbody>\n",
       "</table>\n",
       "</div>"
      ],
      "text/plain": [
       "         SalePrice  Counts  AvgPrice\n",
       "ModelID                             \n",
       "28          498250      32  15570.31\n",
       "29          152500       9  16944.44\n",
       "31          137500       8  17187.50\n",
       "34          103500       6  17250.00\n",
       "43        13830400     697  19842.75"
      ]
     },
     "execution_count": 3,
     "metadata": {},
     "output_type": "execute_result"
    }
   ],
   "source": [
    "train_df['Counts'] = 1\n",
    "avg_prices_df = train_df[['ModelID','SalePrice','Counts']].groupby('ModelID').sum()\n",
    "avg_prices_df['AvgPrice'] = (avg_prices_df.SalePrice / avg_prices_df.Counts).round(2)\n",
    "avg_prices_df.head()"
   ]
  },
  {
   "cell_type": "markdown",
   "metadata": {},
   "source": [
    "### 4. Calculate The Average Sale Price\n",
    "\n",
    "We need to know the average sale price to fill in where there is a previously unseen model."
   ]
  },
  {
   "cell_type": "code",
   "execution_count": 4,
   "metadata": {},
   "outputs": [
    {
     "name": "stdout",
     "output_type": "stream",
     "text": [
      "$31099.71\n"
     ]
    }
   ],
   "source": [
    "avg_sale_price = train_df.SalePrice.sum()/len(train_df)\n",
    "print(\"Average sale price: ${:.2f}\".format(avg_sale_price))"
   ]
  },
  {
   "cell_type": "markdown",
   "metadata": {},
   "source": [
    "### 5. Create A Function That Predicts Sale Price By Simple Lookup\n",
    "\n",
    "If that id appears in the average_prices dataframe, return the average price for tha model. Otherwise return the overall average sale price."
   ]
  },
  {
   "cell_type": "code",
   "execution_count": 5,
   "metadata": {},
   "outputs": [],
   "source": [
    "def predict_price(id):\n",
    "    try: return avg_prices_df.loc[id]['AvgPrice']\n",
    "    except: return avg_sale_price"
   ]
  },
  {
   "cell_type": "markdown",
   "metadata": {},
   "source": [
    "### 6. Use The Function To Predict Prices in the Test Data"
   ]
  },
  {
   "cell_type": "code",
   "execution_count": 6,
   "metadata": {},
   "outputs": [],
   "source": [
    "# The log error is more apropriate in this case because of \n",
    "# the wide variation in prices ($4750 to 142000).\n",
    "\n",
    "def score(predictions, actual):\n",
    "    log_diff = np.log(predictions+1) - np.log(actual+1)\n",
    "    return np.sqrt(np.mean(log_diff**2))"
   ]
  },
  {
   "cell_type": "code",
   "execution_count": 7,
   "metadata": {},
   "outputs": [
    {
     "name": "stdout",
     "output_type": "stream",
     "text": [
      "The guess-the-average-price model has a RMLSE of 0.3209.\n"
     ]
    }
   ],
   "source": [
    "# To make predictions we apply the function predict_price to each row in the test dataframe.\n",
    "score_gtap = score(test_df.ModelID.apply(predict_price), test_actual_prices)\n",
    "print(\"The guess-the-average-price model has a RMLSE of {:.4}.\".format(score_gtap))"
   ]
  },
  {
   "cell_type": "markdown",
   "metadata": {},
   "source": [
    "### 7. Add The \"Average Price By Model ID\" As A Feature"
   ]
  },
  {
   "cell_type": "code",
   "execution_count": 8,
   "metadata": {},
   "outputs": [],
   "source": [
    "train_df[\"avg_price_for_model\"] = train_df.ModelID.apply(predict_price)\n",
    "test_df[\"avg_price_for_model\"] = test_df.ModelID.apply(predict_price)"
   ]
  },
  {
   "cell_type": "markdown",
   "metadata": {},
   "source": [
    "### 8. Fit a Linear Model\n",
    "\n",
    "Used only the average price per model and a constant term. The model, unsurprisingly, relies entirely on the average price per model."
   ]
  },
  {
   "cell_type": "code",
   "execution_count": 12,
   "metadata": {},
   "outputs": [
    {
     "name": "stdout",
     "output_type": "stream",
     "text": [
      "The fit-a-model-to-average-price-as-feature model has a RMLSE of 0.3209.\n"
     ]
    }
   ],
   "source": [
    "train_df['const'] = 1\n",
    "test_df['const'] = 1\n",
    "\n",
    "X_train = train_df[[\"avg_price_for_model\",\"const\"]]\n",
    "X_test = test_df[[\"avg_price_for_model\",\"const\"]]\n",
    "\n",
    "y_train = train_df.SalePrice\n",
    "\n",
    "linear_model = LinearRegression()\n",
    "linear_model.fit(X_train,y_train)\n",
    "y_predict = linear_model.predict(X_test)\n",
    "\n",
    "score_famtapaf = score(y_predict, test_actual_prices)\n",
    "print(\"The fit-a-model-to-average-price-as-feature model has a RMLSE of {:.4}.\".format(score_famtapaf))\n",
    "\n",
    "linear_model.coef_;"
   ]
  }
 ],
 "metadata": {
  "kernelspec": {
   "display_name": "Python 3",
   "language": "python",
   "name": "python3"
  },
  "language_info": {
   "codemirror_mode": {
    "name": "ipython",
    "version": 3
   },
   "file_extension": ".py",
   "mimetype": "text/x-python",
   "name": "python",
   "nbconvert_exporter": "python",
   "pygments_lexer": "ipython3",
   "version": "3.6.5"
  }
 },
 "nbformat": 4,
 "nbformat_minor": 2
}
